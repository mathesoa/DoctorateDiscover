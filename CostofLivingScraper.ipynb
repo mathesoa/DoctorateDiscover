{
 "cells": [
  {
   "cell_type": "markdown",
   "id": "87030500-2890-47dd-95d9-03f2676d9c1a",
   "metadata": {},
   "source": [
    "# Living Wage Data By **State** for One Adult"
   ]
  },
  {
   "cell_type": "markdown",
   "id": "a33d7009-5bba-4e36-afcd-ffbef5c88f67",
   "metadata": {},
   "source": [
    "**Scrapes MIT's livingwage website ('https://livingwage.mit.edu/')**\n",
    "\n",
    "1. Data Collection: Requests is used for simple webscraping as this website did not have extensive blocking features at this time\n",
    " * First, the individual links for each state are scraped into a list (url_links)\n",
    " * Second, the data from each state is extracted \n",
    " * Only the data for single adult is extracted for simplification purposes\n",
    " \n",
    "2. Data Extraction: Beautiful soup is used to parse HTML elements saved as lists\n",
    "3. Data Storage: Scraped elements are stored in a dataframe for further processing.\n",
    "4. Data Cleaning: Not required"
   ]
  },
  {
   "cell_type": "code",
   "execution_count": 2,
   "id": "e17718c6-c949-4e01-8c34-952dc15c30f2",
   "metadata": {},
   "outputs": [],
   "source": [
    "import requests\n",
    "from bs4 import BeautifulSoup\n",
    "import pandas as pd\n",
    "import re"
   ]
  },
  {
   "cell_type": "code",
   "execution_count": 3,
   "id": "21dadc1b-4721-41aa-900a-1a8a7d6491b7",
   "metadata": {},
   "outputs": [],
   "source": [
    "url = 'https://livingwage.mit.edu/'"
   ]
  },
  {
   "cell_type": "code",
   "execution_count": 4,
   "id": "1540e777-4f4b-457d-a919-7fc091e4f6d1",
   "metadata": {},
   "outputs": [],
   "source": [
    "response = requests.get(url)"
   ]
  },
  {
   "cell_type": "code",
   "execution_count": 5,
   "id": "04014295-6348-4c5e-8183-d44a274027c6",
   "metadata": {},
   "outputs": [
    {
     "name": "stdout",
     "output_type": "stream",
     "text": [
      "success\n"
     ]
    }
   ],
   "source": [
    "if response.status_code == 200:\n",
    "    soup = BeautifulSoup(response.text, 'html.parser')\n",
    "    print('success')\n",
    "else:\n",
    "    print(\"Failed to fetch the webpage.\")"
   ]
  },
  {
   "cell_type": "code",
   "execution_count": 6,
   "id": "5ec38f9e-5800-42b9-b49a-e130f652be4a",
   "metadata": {},
   "outputs": [
    {
     "name": "stdout",
     "output_type": "stream",
     "text": [
      "Number of divs found: 1\n"
     ]
    }
   ],
   "source": [
    "# This is the unordered list div that contains all the li elements for each state (including link)\n",
    "\n",
    "url_divs = soup.find_all('ul', attrs={'class': 'states list-unstyled row'})  \n",
    "print(f\"Number of divs found: {len(url_divs)}\")"
   ]
  },
  {
   "cell_type": "code",
   "execution_count": 7,
   "id": "981322ff-4cad-455c-bc64-ea71fc448303",
   "metadata": {},
   "outputs": [],
   "source": [
    "# Getting all the links for each state's page\n",
    "\n",
    "links = []\n",
    "for ul in url_divs:\n",
    "    for li in ul.find_all('li'):\n",
    "        read_more = li.find('a').get('href') if li.find('a') is not None else ''\n",
    "        url_link = 'https://livingwage.mit.edu' + read_more\n",
    "        links.append(url_link)"
   ]
  },
  {
   "cell_type": "code",
   "execution_count": 8,
   "id": "1b2c5798-493a-4782-bcbb-b411d5c6cf18",
   "metadata": {},
   "outputs": [],
   "source": [
    "# Here are the links to get the information on the living wage:\n",
    "\n",
    "links = [link.replace('/locations', '') for link in links]"
   ]
  },
  {
   "cell_type": "code",
   "execution_count": 9,
   "id": "9df6c036-b7d0-42c1-9644-015842f1036f",
   "metadata": {},
   "outputs": [],
   "source": [
    "url = links[0]"
   ]
  },
  {
   "cell_type": "code",
   "execution_count": 11,
   "id": "dbf59b4e-7880-41d4-876c-683ab4e87357",
   "metadata": {},
   "outputs": [
    {
     "data": {
      "text/plain": [
       "'https://livingwage.mit.edu/states/01'"
      ]
     },
     "execution_count": 11,
     "metadata": {},
     "output_type": "execute_result"
    }
   ],
   "source": [
    "# parsed link example\n",
    "url"
   ]
  },
  {
   "cell_type": "code",
   "execution_count": 10,
   "id": "94e7854d-6bec-4d41-a411-46ad8f77ee53",
   "metadata": {},
   "outputs": [
    {
     "name": "stdout",
     "output_type": "stream",
     "text": [
      "success\n"
     ]
    }
   ],
   "source": [
    "# confirming parsed link is correct\n",
    "response = requests.get(url)\n",
    "if response.status_code == 200:\n",
    "    soup = BeautifulSoup(response.text, 'html.parser')\n",
    "    print('success')\n",
    "else:\n",
    "    print(\"Failed to fetch the webpage.\")"
   ]
  },
  {
   "cell_type": "code",
   "execution_count": 12,
   "id": "0316fa1e-e019-4b64-ac25-ce3adaa6c4fd",
   "metadata": {},
   "outputs": [
    {
     "data": {
      "text/plain": [
       "1"
      ]
     },
     "execution_count": 12,
     "metadata": {},
     "output_type": "execute_result"
    }
   ],
   "source": [
    "expense_divs = soup.find_all('table', attrs={'class': 'results_table table-striped expense_table'}) \n",
    "len(expense_divs)"
   ]
  },
  {
   "cell_type": "code",
   "execution_count": 13,
   "id": "b23ce51c-1ee8-469d-9b95-ab8e52a6e911",
   "metadata": {},
   "outputs": [
    {
     "name": "stdout",
     "output_type": "stream",
     "text": [
      "Alabama\n"
     ]
    }
   ],
   "source": [
    "state = soup.find_all('h1')[1].text.split(' Calculation for ')[1]\n",
    "print(state)"
   ]
  },
  {
   "cell_type": "code",
   "execution_count": 14,
   "id": "a9a43e6a-086a-4a28-8d0f-6fb7355875df",
   "metadata": {},
   "outputs": [
    {
     "name": "stdout",
     "output_type": "stream",
     "text": [
      "['\\n        $3,926\\n      ', '\\n        $0\\n      ', '\\n        $2,998\\n      ', '\\n        $7,954\\n      ', '\\n        $5,477\\n      ', '\\n        $3,074\\n      ', '\\n        $4,253\\n      ', '\\n        $27,814\\n      ', '\\n        $4,733\\n      ', '\\n        $32,547\\n      ']\n"
     ]
    }
   ],
   "source": [
    "food_expenses = []\n",
    "\n",
    "# Find all the rows in the table body\n",
    "for row in expense_divs[0].tbody.find_all('tr'):\n",
    "    second = row.find_all('td')\n",
    "    food = second[1].get_text()\n",
    "    food_expenses.append(food)\n",
    "\n",
    "\n",
    "print(food_expenses)"
   ]
  },
  {
   "cell_type": "code",
   "execution_count": 15,
   "id": "9eb398db-3df3-48ab-b71c-51e9a899142d",
   "metadata": {},
   "outputs": [],
   "source": [
    "import pandas as pd\n",
    "\n",
    "# Create dictionary with expense categories and values\n",
    "expense_dict = {}\n",
    "for row in expense_divs[0].tbody.find_all('tr'):\n",
    "    category = row.find('td', class_='text').text\n",
    "    values = row.find_all('td')[1:]\n",
    "    expense_dict[category] = [v.text.strip().replace(',', '').replace('$', '') for v in values]\n",
    "\n",
    "# Create DataFrame from dictionary\n",
    "df = pd.DataFrame.from_dict(expense_dict, orient='columns')"
   ]
  },
  {
   "cell_type": "code",
   "execution_count": 17,
   "id": "15e56810-c8dd-49ea-af1f-1d5b56d0cbb0",
   "metadata": {},
   "outputs": [
    {
     "data": {
      "text/html": [
       "<div>\n",
       "<style scoped>\n",
       "    .dataframe tbody tr th:only-of-type {\n",
       "        vertical-align: middle;\n",
       "    }\n",
       "\n",
       "    .dataframe tbody tr th {\n",
       "        vertical-align: top;\n",
       "    }\n",
       "\n",
       "    .dataframe thead th {\n",
       "        text-align: right;\n",
       "    }\n",
       "</style>\n",
       "<table border=\"1\" class=\"dataframe\">\n",
       "  <thead>\n",
       "    <tr style=\"text-align: right;\">\n",
       "      <th></th>\n",
       "      <th>Food</th>\n",
       "      <th>Child Care</th>\n",
       "      <th>Medical</th>\n",
       "      <th>Housing</th>\n",
       "      <th>Transportation</th>\n",
       "      <th>Civic</th>\n",
       "      <th>Other</th>\n",
       "      <th>Required annual income after taxes</th>\n",
       "      <th>Annual taxes</th>\n",
       "      <th>Required annual income before taxes</th>\n",
       "    </tr>\n",
       "  </thead>\n",
       "  <tbody>\n",
       "    <tr>\n",
       "      <th>0</th>\n",
       "      <td>3926</td>\n",
       "      <td>0</td>\n",
       "      <td>2998</td>\n",
       "      <td>7954</td>\n",
       "      <td>5477</td>\n",
       "      <td>3074</td>\n",
       "      <td>4253</td>\n",
       "      <td>27814</td>\n",
       "      <td>4733</td>\n",
       "      <td>32547</td>\n",
       "    </tr>\n",
       "    <tr>\n",
       "      <th>1</th>\n",
       "      <td>5795</td>\n",
       "      <td>6659</td>\n",
       "      <td>9059</td>\n",
       "      <td>10406</td>\n",
       "      <td>9851</td>\n",
       "      <td>6107</td>\n",
       "      <td>7420</td>\n",
       "      <td>55428</td>\n",
       "      <td>10817</td>\n",
       "      <td>66245</td>\n",
       "    </tr>\n",
       "    <tr>\n",
       "      <th>2</th>\n",
       "      <td>8707</td>\n",
       "      <td>13319</td>\n",
       "      <td>9069</td>\n",
       "      <td>10406</td>\n",
       "      <td>12045</td>\n",
       "      <td>6821</td>\n",
       "      <td>8755</td>\n",
       "      <td>69253</td>\n",
       "      <td>14547</td>\n",
       "      <td>83800</td>\n",
       "    </tr>\n",
       "    <tr>\n",
       "      <th>3</th>\n",
       "      <td>11540</td>\n",
       "      <td>19978</td>\n",
       "      <td>8994</td>\n",
       "      <td>13570</td>\n",
       "      <td>14484</td>\n",
       "      <td>9300</td>\n",
       "      <td>9610</td>\n",
       "      <td>87607</td>\n",
       "      <td>20472</td>\n",
       "      <td>108080</td>\n",
       "    </tr>\n",
       "    <tr>\n",
       "      <th>4</th>\n",
       "      <td>7198</td>\n",
       "      <td>0</td>\n",
       "      <td>6663</td>\n",
       "      <td>8548</td>\n",
       "      <td>9851</td>\n",
       "      <td>6107</td>\n",
       "      <td>7420</td>\n",
       "      <td>45918</td>\n",
       "      <td>7208</td>\n",
       "      <td>53127</td>\n",
       "    </tr>\n",
       "  </tbody>\n",
       "</table>\n",
       "</div>"
      ],
      "text/plain": [
       "    Food Child Care Medical Housing Transportation Civic Other  \\\n",
       "0   3926          0    2998    7954           5477  3074  4253   \n",
       "1   5795       6659    9059   10406           9851  6107  7420   \n",
       "2   8707      13319    9069   10406          12045  6821  8755   \n",
       "3  11540      19978    8994   13570          14484  9300  9610   \n",
       "4   7198          0    6663    8548           9851  6107  7420   \n",
       "\n",
       "  Required annual income after taxes Annual taxes  \\\n",
       "0                              27814         4733   \n",
       "1                              55428        10817   \n",
       "2                              69253        14547   \n",
       "3                              87607        20472   \n",
       "4                              45918         7208   \n",
       "\n",
       "  Required annual income before taxes  \n",
       "0                               32547  \n",
       "1                               66245  \n",
       "2                               83800  \n",
       "3                              108080  \n",
       "4                               53127  "
      ]
     },
     "execution_count": 17,
     "metadata": {},
     "output_type": "execute_result"
    }
   ],
   "source": [
    "# This shows all the data in the table, we only require the data for a single adult for our analysis\n",
    "\n",
    "df.head()"
   ]
  },
  {
   "cell_type": "code",
   "execution_count": 20,
   "id": "2fa33ce2-4ce7-4115-b308-487076e430b0",
   "metadata": {},
   "outputs": [],
   "source": [
    "# Define function to extract expenses for one adult\n",
    "\n",
    "def one_adult(expense_divs):\n",
    "    expense_dict = {}\n",
    "    for row in expense_divs[0].tbody.find_all('tr'):\n",
    "        category = row.find('td', class_='text').text\n",
    "        values = row.find_all('td')[1:]\n",
    "        expense_dict[category] = [v.text.strip().replace(',', '').replace('$', '') for v in values]\n",
    "\n",
    "    # Create DataFrame from dictionary\n",
    "    df = pd.DataFrame.from_dict(expense_dict, orient='columns')\n",
    "\n",
    "    # Select the first row of all columns\n",
    "    first_row = df.iloc[0]\n",
    "\n",
    "    return first_row"
   ]
  },
  {
   "cell_type": "code",
   "execution_count": 21,
   "id": "66d501ce-18b1-4a1f-8b97-fda867109319",
   "metadata": {},
   "outputs": [],
   "source": [
    "# Extract all the cost of living information for each state <3 minutes to run\n",
    "\n",
    "df_final = pd.DataFrame()\n",
    "\n",
    "for url in links:\n",
    "    response = requests.get(url)\n",
    "    soup = BeautifulSoup(response.text, 'html.parser')\n",
    "    expense_divs = soup.find_all('table', attrs={'class': 'results_table table-striped expense_table'}) \n",
    "    series = one_adult(expense_divs)\n",
    "    \n",
    "    state = soup.find_all('h1')[1].text.split(' Calculation for ')[1]\n",
    "    series['state'] = state\n",
    "    \n",
    "    series = series.to_frame().transpose()\n",
    "    df_final = pd.concat([df_final, series], axis=0) # keep adding a new row per state\n",
    "\n",
    "df_final.reset_index(drop=True, inplace=True)"
   ]
  },
  {
   "cell_type": "code",
   "execution_count": null,
   "id": "d49ceba2-9fc8-485b-9808-1f94e192eb15",
   "metadata": {},
   "outputs": [],
   "source": [
    "df_final.to_csv('LivingWageCalculator.csv', index=False)"
   ]
  },
  {
   "cell_type": "code",
   "execution_count": 23,
   "id": "5873cd9b-22ba-4c9e-b303-ab5b3b086532",
   "metadata": {},
   "outputs": [
    {
     "data": {
      "text/html": [
       "<div>\n",
       "<style scoped>\n",
       "    .dataframe tbody tr th:only-of-type {\n",
       "        vertical-align: middle;\n",
       "    }\n",
       "\n",
       "    .dataframe tbody tr th {\n",
       "        vertical-align: top;\n",
       "    }\n",
       "\n",
       "    .dataframe thead th {\n",
       "        text-align: right;\n",
       "    }\n",
       "</style>\n",
       "<table border=\"1\" class=\"dataframe\">\n",
       "  <thead>\n",
       "    <tr style=\"text-align: right;\">\n",
       "      <th></th>\n",
       "      <th>Food</th>\n",
       "      <th>Child Care</th>\n",
       "      <th>Medical</th>\n",
       "      <th>Housing</th>\n",
       "      <th>Transportation</th>\n",
       "      <th>Civic</th>\n",
       "      <th>Other</th>\n",
       "      <th>Required annual income after taxes</th>\n",
       "      <th>Annual taxes</th>\n",
       "      <th>Required annual income before taxes</th>\n",
       "      <th>state</th>\n",
       "    </tr>\n",
       "  </thead>\n",
       "  <tbody>\n",
       "    <tr>\n",
       "      <th>0</th>\n",
       "      <td>3926</td>\n",
       "      <td>0</td>\n",
       "      <td>2998</td>\n",
       "      <td>7954</td>\n",
       "      <td>5477</td>\n",
       "      <td>3074</td>\n",
       "      <td>4253</td>\n",
       "      <td>27814</td>\n",
       "      <td>4733</td>\n",
       "      <td>32547</td>\n",
       "      <td>Alabama</td>\n",
       "    </tr>\n",
       "    <tr>\n",
       "      <th>1</th>\n",
       "      <td>4686</td>\n",
       "      <td>0</td>\n",
       "      <td>3042</td>\n",
       "      <td>10591</td>\n",
       "      <td>5316</td>\n",
       "      <td>2920</td>\n",
       "      <td>4596</td>\n",
       "      <td>31284</td>\n",
       "      <td>4388</td>\n",
       "      <td>35671</td>\n",
       "      <td>Alaska</td>\n",
       "    </tr>\n",
       "    <tr>\n",
       "      <th>2</th>\n",
       "      <td>4686</td>\n",
       "      <td>0</td>\n",
       "      <td>3125</td>\n",
       "      <td>11194</td>\n",
       "      <td>5316</td>\n",
       "      <td>2920</td>\n",
       "      <td>4596</td>\n",
       "      <td>31970</td>\n",
       "      <td>5015</td>\n",
       "      <td>36985</td>\n",
       "      <td>Arizona</td>\n",
       "    </tr>\n",
       "    <tr>\n",
       "      <th>3</th>\n",
       "      <td>3926</td>\n",
       "      <td>0</td>\n",
       "      <td>3200</td>\n",
       "      <td>7276</td>\n",
       "      <td>5477</td>\n",
       "      <td>3074</td>\n",
       "      <td>4253</td>\n",
       "      <td>27337</td>\n",
       "      <td>4382</td>\n",
       "      <td>31719</td>\n",
       "      <td>Arkansas</td>\n",
       "    </tr>\n",
       "    <tr>\n",
       "      <th>4</th>\n",
       "      <td>4686</td>\n",
       "      <td>0</td>\n",
       "      <td>3136</td>\n",
       "      <td>17076</td>\n",
       "      <td>5316</td>\n",
       "      <td>2920</td>\n",
       "      <td>4596</td>\n",
       "      <td>37863</td>\n",
       "      <td>6312</td>\n",
       "      <td>44175</td>\n",
       "      <td>California</td>\n",
       "    </tr>\n",
       "  </tbody>\n",
       "</table>\n",
       "</div>"
      ],
      "text/plain": [
       "   Food Child Care Medical Housing Transportation Civic Other  \\\n",
       "0  3926          0    2998    7954           5477  3074  4253   \n",
       "1  4686          0    3042   10591           5316  2920  4596   \n",
       "2  4686          0    3125   11194           5316  2920  4596   \n",
       "3  3926          0    3200    7276           5477  3074  4253   \n",
       "4  4686          0    3136   17076           5316  2920  4596   \n",
       "\n",
       "  Required annual income after taxes Annual taxes  \\\n",
       "0                              27814         4733   \n",
       "1                              31284         4388   \n",
       "2                              31970         5015   \n",
       "3                              27337         4382   \n",
       "4                              37863         6312   \n",
       "\n",
       "  Required annual income before taxes       state  \n",
       "0                               32547     Alabama  \n",
       "1                               35671      Alaska  \n",
       "2                               36985     Arizona  \n",
       "3                               31719    Arkansas  \n",
       "4                               44175  California  "
      ]
     },
     "execution_count": 23,
     "metadata": {},
     "output_type": "execute_result"
    }
   ],
   "source": [
    "df_final.head()"
   ]
  },
  {
   "cell_type": "markdown",
   "id": "698203fa-0e02-4be6-afb0-63935ccd4185",
   "metadata": {},
   "source": [
    "# Living Wage Data By **County** for One Adult"
   ]
  },
  {
   "cell_type": "markdown",
   "id": "d0ed6881-660c-4626-aaf4-9acc81e8c713",
   "metadata": {},
   "source": [
    "**Scrapes MIT's livingwage website ('https://livingwage.mit.edu/')**\n",
    "\n",
    "Same as above, except now this code can be used to extract the information for each County in each State \n",
    "This takes longer to run but obtains more detailed data"
   ]
  },
  {
   "cell_type": "code",
   "execution_count": 39,
   "id": "6a73db01-1929-4e1e-9909-9bb93a77512f",
   "metadata": {},
   "outputs": [
    {
     "data": {
      "text/plain": [
       "8"
      ]
     },
     "execution_count": 39,
     "metadata": {},
     "output_type": "execute_result"
    }
   ],
   "source": [
    "links_for_counties = links\n",
    "test = links_for_counties[0]\n",
    "\n",
    "response = requests.get(test)\n",
    "soup = BeautifulSoup(response.text, 'html.parser')\n",
    "url_divs = soup.find_all('ul')\n",
    "\n",
    "divs = url_divs[0].find_all('li')\n",
    "\n",
    "for div in divs:\n",
    "    href = div.find('a').get('href')\n",
    "    county = div.find('a').text.strip()\n",
    "    print(county)"
   ]
  },
  {
   "cell_type": "markdown",
   "id": "d4fca12e-608c-4add-bd9e-fd8b6c9ffa00",
   "metadata": {},
   "source": [
    "**Now instead of just using the states, we will extract all the information from the county-specific living wage **"
   ]
  },
  {
   "cell_type": "code",
   "execution_count": 54,
   "id": "ca7f7b0f-30b7-4f9e-9d40-965e0b355a69",
   "metadata": {},
   "outputs": [],
   "source": [
    "#Getting the county lists\n",
    "\n",
    "county_links = []\n",
    "county_names = []\n",
    "\n",
    "for url in links_for_counties:\n",
    "    response = requests.get(url)\n",
    "    soup = BeautifulSoup(response.text, 'html.parser')\n",
    "    url_divs = soup.find_all('ul')\n",
    "    \n",
    "    for div in url_divs:\n",
    "        divs = div.find_all('li')\n",
    "        \n",
    "        for li in divs:\n",
    "            href = li.find('a').get('href')\n",
    "            county = li.find('a').text.strip()\n",
    "            url_link = 'https://livingwage.mit.edu' + href\n",
    "        \n",
    "            county_links.append(url_link)\n",
    "            county_names.append(county)\n",
    "            \n",
    "\n",
    "# Removing any of the start page/links we dont want and metropolitan areas\n",
    "county_link_cleaned = [link for link in county_links if '/counties' in link]"
   ]
  },
  {
   "cell_type": "code",
   "execution_count": 55,
   "id": "38c03ba6-bdee-4acd-85c6-ee9ff5816a08",
   "metadata": {},
   "outputs": [
    {
     "data": {
      "text/plain": [
       "3143"
      ]
     },
     "execution_count": 55,
     "metadata": {},
     "output_type": "execute_result"
    }
   ],
   "source": [
    "len(county_link_cleaned)"
   ]
  },
  {
   "cell_type": "code",
   "execution_count": 58,
   "id": "c13caed1-1333-420d-b4bd-853826755724",
   "metadata": {},
   "outputs": [],
   "source": [
    "# Define function to extract expenses for one adult\n",
    "def one_adult(expense_divs):\n",
    "    expense_dict = {}\n",
    "    for row in expense_divs[0].tbody.find_all('tr'):\n",
    "        category = row.find('td', class_='text').text\n",
    "        values = row.find_all('td')[1:]\n",
    "        expense_dict[category] = [v.text.strip().replace(',', '').replace('$', '') for v in values]\n",
    "\n",
    "    # Create DataFrame from dictionary\n",
    "    df = pd.DataFrame.from_dict(expense_dict, orient='columns')\n",
    "\n",
    "    # Select the first row of all columns\n",
    "    first_row = df.iloc[0]\n",
    "\n",
    "    return first_row"
   ]
  },
  {
   "cell_type": "code",
   "execution_count": 63,
   "id": "8b9a63cc-132c-44c2-ac44-dd30ee55a0d9",
   "metadata": {},
   "outputs": [
    {
     "name": "stdout",
     "output_type": "stream",
     "text": [
      "Processed 20 URLs\n",
      "Processed 40 URLs\n",
      "Processed 60 URLs\n",
      "Processed 80 URLs\n",
      "Processed 100 URLs\n",
      "Processed 120 URLs\n",
      "Processed 140 URLs\n",
      "Processed 160 URLs\n",
      "Processed 180 URLs\n",
      "Processed 200 URLs\n",
      "Processed 220 URLs\n",
      "Processed 240 URLs\n",
      "Processed 260 URLs\n",
      "Processed 280 URLs\n",
      "Processed 300 URLs\n",
      "Processed 320 URLs\n",
      "Processed 340 URLs\n",
      "Processed 360 URLs\n",
      "Processed 380 URLs\n",
      "Processed 400 URLs\n",
      "Processed 420 URLs\n",
      "Processed 440 URLs\n",
      "Processed 460 URLs\n",
      "Processed 480 URLs\n",
      "Processed 500 URLs\n",
      "Processed 520 URLs\n",
      "Processed 540 URLs\n",
      "Processed 560 URLs\n",
      "Processed 580 URLs\n",
      "Processed 600 URLs\n",
      "Processed 620 URLs\n",
      "Processed 640 URLs\n",
      "Processed 660 URLs\n",
      "Processed 680 URLs\n",
      "Processed 700 URLs\n",
      "Processed 720 URLs\n",
      "Processed 740 URLs\n",
      "Processed 760 URLs\n",
      "Processed 780 URLs\n",
      "Processed 800 URLs\n",
      "Processed 820 URLs\n",
      "Processed 840 URLs\n",
      "Processed 860 URLs\n",
      "Processed 880 URLs\n",
      "Processed 900 URLs\n",
      "Processed 920 URLs\n",
      "Processed 940 URLs\n",
      "Processed 960 URLs\n",
      "Processed 980 URLs\n",
      "Processed 1000 URLs\n",
      "Processed 1020 URLs\n",
      "Processed 1040 URLs\n",
      "Processed 1060 URLs\n",
      "Processed 1080 URLs\n",
      "Processed 1100 URLs\n",
      "Processed 1120 URLs\n",
      "Processed 1140 URLs\n",
      "Processed 1160 URLs\n",
      "Processed 1180 URLs\n",
      "Processed 1200 URLs\n",
      "Processed 1220 URLs\n",
      "Processed 1240 URLs\n",
      "Processed 1260 URLs\n",
      "Processed 1280 URLs\n",
      "Processed 1300 URLs\n",
      "Processed 1320 URLs\n",
      "Processed 1340 URLs\n",
      "Processed 1360 URLs\n",
      "Processed 1380 URLs\n",
      "Processed 1400 URLs\n",
      "Processed 1420 URLs\n",
      "Processed 1440 URLs\n",
      "Processed 1460 URLs\n",
      "Processed 1480 URLs\n",
      "Processed 1500 URLs\n",
      "Processed 1520 URLs\n",
      "Processed 1540 URLs\n",
      "Processed 1560 URLs\n",
      "Processed 1580 URLs\n",
      "Processed 1600 URLs\n",
      "Processed 1620 URLs\n",
      "Processed 1640 URLs\n",
      "Processed 1660 URLs\n",
      "Processed 1680 URLs\n",
      "Processed 1700 URLs\n",
      "Processed 1720 URLs\n",
      "Processed 1740 URLs\n",
      "Processed 1760 URLs\n",
      "Processed 1780 URLs\n",
      "Processed 1800 URLs\n",
      "Processed 1820 URLs\n",
      "Processed 1840 URLs\n",
      "Processed 1860 URLs\n",
      "Processed 1880 URLs\n",
      "Processed 1900 URLs\n",
      "Processed 1920 URLs\n",
      "Processed 1940 URLs\n",
      "Processed 1960 URLs\n",
      "Processed 1980 URLs\n",
      "Processed 2000 URLs\n",
      "Processed 2020 URLs\n",
      "Processed 2040 URLs\n",
      "Processed 2060 URLs\n",
      "Processed 2080 URLs\n",
      "Processed 2100 URLs\n",
      "Processed 2120 URLs\n",
      "Processed 2140 URLs\n",
      "Processed 2160 URLs\n",
      "Processed 2180 URLs\n",
      "Processed 2200 URLs\n",
      "Processed 2220 URLs\n",
      "Processed 2240 URLs\n",
      "Processed 2260 URLs\n",
      "Processed 2280 URLs\n",
      "Processed 2300 URLs\n",
      "Processed 2320 URLs\n",
      "Processed 2340 URLs\n",
      "Processed 2360 URLs\n",
      "Processed 2380 URLs\n",
      "Processed 2400 URLs\n",
      "Processed 2420 URLs\n",
      "Processed 2440 URLs\n",
      "Processed 2460 URLs\n",
      "Processed 2480 URLs\n",
      "Processed 2500 URLs\n",
      "Processed 2520 URLs\n",
      "Processed 2540 URLs\n",
      "Processed 2560 URLs\n",
      "Processed 2580 URLs\n",
      "Processed 2600 URLs\n",
      "Processed 2620 URLs\n",
      "Processed 2640 URLs\n",
      "Processed 2660 URLs\n",
      "Processed 2680 URLs\n",
      "Processed 2700 URLs\n",
      "Processed 2720 URLs\n",
      "Processed 2740 URLs\n",
      "Processed 2760 URLs\n",
      "Processed 2780 URLs\n",
      "Processed 2800 URLs\n",
      "Processed 2820 URLs\n",
      "Processed 2840 URLs\n",
      "Processed 2860 URLs\n",
      "Processed 2880 URLs\n",
      "Processed 2900 URLs\n",
      "Processed 2920 URLs\n",
      "Processed 2940 URLs\n",
      "Processed 2960 URLs\n",
      "Processed 2980 URLs\n",
      "Processed 3000 URLs\n",
      "Processed 3020 URLs\n",
      "Processed 3040 URLs\n",
      "Processed 3060 URLs\n",
      "Processed 3080 URLs\n",
      "Processed 3100 URLs\n",
      "Processed 3120 URLs\n",
      "Processed 3140 URLs\n"
     ]
    }
   ],
   "source": [
    "# Running this takes ~ 45 minutes, 15 seconds per 20 urls, and there are a total of 3143 urls to go through\n",
    "df_final = pd.DataFrame()\n",
    "chunk_size = 20\n",
    "\n",
    "for i, url in enumerate(county_link_cleaned):\n",
    "    response = requests.get(url)\n",
    "    soup = BeautifulSoup(response.text, 'html.parser')\n",
    "    expense_divs = soup.find_all('table', attrs={'class': 'results_table table-striped expense_table'}) \n",
    "    state = soup.find_all('h1')[1].text  #.split(' Calculation for ')[1]\n",
    "    series = one_adult(expense_divs) # Using the underscore to ignore the index\n",
    "    series['state'] = state\n",
    "    series = series.to_frame().transpose()\n",
    "    df_final = pd.concat([df_final, series], axis=0)\n",
    "    \n",
    "    if (i + 1) % chunk_size == 0:\n",
    "        print(\"Processed {} URLs\".format(i + 1))\n",
    "\n",
    "df_final.reset_index(drop=True, inplace=True)"
   ]
  },
  {
   "cell_type": "code",
   "execution_count": 84,
   "id": "5042a5d4-c4fb-465a-95ed-434fee8e0948",
   "metadata": {},
   "outputs": [
    {
     "data": {
      "text/html": [
       "<div>\n",
       "<style scoped>\n",
       "    .dataframe tbody tr th:only-of-type {\n",
       "        vertical-align: middle;\n",
       "    }\n",
       "\n",
       "    .dataframe tbody tr th {\n",
       "        vertical-align: top;\n",
       "    }\n",
       "\n",
       "    .dataframe thead th {\n",
       "        text-align: right;\n",
       "    }\n",
       "</style>\n",
       "<table border=\"1\" class=\"dataframe\">\n",
       "  <thead>\n",
       "    <tr style=\"text-align: right;\">\n",
       "      <th></th>\n",
       "      <th>State</th>\n",
       "      <th>County</th>\n",
       "      <th>Required annual income before taxes</th>\n",
       "      <th>Food</th>\n",
       "      <th>Medical</th>\n",
       "      <th>Housing</th>\n",
       "      <th>Transportation</th>\n",
       "      <th>Civic</th>\n",
       "      <th>Annual taxes</th>\n",
       "    </tr>\n",
       "  </thead>\n",
       "  <tbody>\n",
       "    <tr>\n",
       "      <th>0</th>\n",
       "      <td>Alabama</td>\n",
       "      <td>Autauga County</td>\n",
       "      <td>32506</td>\n",
       "      <td>3926</td>\n",
       "      <td>2998</td>\n",
       "      <td>7921</td>\n",
       "      <td>5477</td>\n",
       "      <td>3074</td>\n",
       "      <td>4725</td>\n",
       "    </tr>\n",
       "    <tr>\n",
       "      <th>1</th>\n",
       "      <td>Alabama</td>\n",
       "      <td>Baldwin County</td>\n",
       "      <td>34476</td>\n",
       "      <td>3926</td>\n",
       "      <td>2998</td>\n",
       "      <td>9510</td>\n",
       "      <td>5477</td>\n",
       "      <td>3074</td>\n",
       "      <td>5106</td>\n",
       "    </tr>\n",
       "    <tr>\n",
       "      <th>2</th>\n",
       "      <td>Alabama</td>\n",
       "      <td>Barbour County</td>\n",
       "      <td>30811</td>\n",
       "      <td>3926</td>\n",
       "      <td>2998</td>\n",
       "      <td>6554</td>\n",
       "      <td>5477</td>\n",
       "      <td>3074</td>\n",
       "      <td>4398</td>\n",
       "    </tr>\n",
       "    <tr>\n",
       "      <th>3</th>\n",
       "      <td>Alabama</td>\n",
       "      <td>Bibb County</td>\n",
       "      <td>34369</td>\n",
       "      <td>3926</td>\n",
       "      <td>2998</td>\n",
       "      <td>9424</td>\n",
       "      <td>5477</td>\n",
       "      <td>3074</td>\n",
       "      <td>5085</td>\n",
       "    </tr>\n",
       "    <tr>\n",
       "      <th>4</th>\n",
       "      <td>Alabama</td>\n",
       "      <td>Blount County</td>\n",
       "      <td>34369</td>\n",
       "      <td>3926</td>\n",
       "      <td>2998</td>\n",
       "      <td>9424</td>\n",
       "      <td>5477</td>\n",
       "      <td>3074</td>\n",
       "      <td>5085</td>\n",
       "    </tr>\n",
       "  </tbody>\n",
       "</table>\n",
       "</div>"
      ],
      "text/plain": [
       "      State          County Required annual income before taxes  Food Medical  \\\n",
       "0   Alabama  Autauga County                               32506  3926    2998   \n",
       "1   Alabama  Baldwin County                               34476  3926    2998   \n",
       "2   Alabama  Barbour County                               30811  3926    2998   \n",
       "3   Alabama     Bibb County                               34369  3926    2998   \n",
       "4   Alabama   Blount County                               34369  3926    2998   \n",
       "\n",
       "  Housing Transportation Civic Annual taxes  \n",
       "0    7921           5477  3074         4725  \n",
       "1    9510           5477  3074         5106  \n",
       "2    6554           5477  3074         4398  \n",
       "3    9424           5477  3074         5085  \n",
       "4    9424           5477  3074         5085  "
      ]
     },
     "execution_count": 84,
     "metadata": {},
     "output_type": "execute_result"
    }
   ],
   "source": [
    "df_final.head()"
   ]
  },
  {
   "cell_type": "code",
   "execution_count": 71,
   "id": "f2073fd4-0ad8-47c5-a32e-efd95b0b6f53",
   "metadata": {},
   "outputs": [],
   "source": [
    "# Get the County and state seperately\n",
    "df_final[['County', 'State']] = df_final['state'].str.split(',', expand=True)"
   ]
  },
  {
   "cell_type": "code",
   "execution_count": 82,
   "id": "4499f171-6a48-431c-a67b-9ec8d1e4e422",
   "metadata": {},
   "outputs": [],
   "source": [
    "df_final = df_final[['State','County', 'Required annual income before taxes', 'Food', 'Medical','Housing','Transportation', 'Civic', 'Annual taxes']].reset_index(drop=True)"
   ]
  },
  {
   "cell_type": "code",
   "execution_count": 85,
   "id": "f77841d9-3fb4-4cf6-8752-07012c0ca660",
   "metadata": {},
   "outputs": [],
   "source": [
    "df_final.to_csv('Living_Wage_County_State.csv')"
   ]
  },
  {
   "cell_type": "code",
   "execution_count": null,
   "id": "41157ca8-386d-4e96-8b38-e050bf8fec4a",
   "metadata": {},
   "outputs": [],
   "source": []
  }
 ],
 "metadata": {
  "kernelspec": {
   "display_name": "Python 3 (ipykernel)",
   "language": "python",
   "name": "python3"
  },
  "language_info": {
   "codemirror_mode": {
    "name": "ipython",
    "version": 3
   },
   "file_extension": ".py",
   "mimetype": "text/x-python",
   "name": "python",
   "nbconvert_exporter": "python",
   "pygments_lexer": "ipython3",
   "version": "3.9.13"
  }
 },
 "nbformat": 4,
 "nbformat_minor": 5
}
