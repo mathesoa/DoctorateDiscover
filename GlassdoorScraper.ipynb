{
 "cells": [
  {
   "cell_type": "markdown",
   "id": "de7e452e-ef36-4b3e-a9ce-4077095dc973",
   "metadata": {},
   "source": [
    "# Developing and Using the Glassdoor scraper"
   ]
  },
  {
   "cell_type": "markdown",
   "id": "01340ea4-7aee-4748-aeb8-3c000428b7d2",
   "metadata": {},
   "source": [
    "**Scrape Glassdoor for PhD Stipend Information for each University**\n",
    "\n",
    "* Data Collection: Selenium and Chrome webdriver for webscraping\n",
    "* Data Extraction: Beautiful soup is used to parse HTML elements saved as lists\n",
    "* Data Storage: Lists are combined into a dataframe for further processing. \n",
    "* Data Cleaning: Salaries are reformatted, and values below 2,000 or above 80,000 are excluded."
   ]
  },
  {
   "cell_type": "code",
   "execution_count": 2,
   "id": "9cd67f53-b194-494e-81c1-5f6c35cafa4a",
   "metadata": {},
   "outputs": [],
   "source": [
    "import pandas as pd\n",
    "import numpy as np\n",
    "from bs4 import BeautifulSoup\n",
    "\n",
    "from selenium import webdriver\n",
    "from selenium.webdriver.chrome.service import Service"
   ]
  },
  {
   "cell_type": "markdown",
   "id": "c8122458-c904-4866-8a1f-4ceb4a5665be",
   "metadata": {},
   "source": [
    "**Developing the scraper**"
   ]
  },
  {
   "cell_type": "code",
   "execution_count": 3,
   "id": "d284503d-f351-4aa1-b9fe-a08635f52582",
   "metadata": {},
   "outputs": [],
   "source": [
    "url = 'https://www.glassdoor.com/Salaries/us-phd-student-salary-SRCH_IL.0,2_IN1_KO3,14.htm'"
   ]
  },
  {
   "cell_type": "code",
   "execution_count": 6,
   "id": "c905d3e1-297c-401e-b43a-29109eb4ce8d",
   "metadata": {},
   "outputs": [],
   "source": [
    "webdriver_location = r'C:\\Users\\Lenovo V15\\Downloads\\chromedriver_win32.exe'\n",
    "chrome_service = Service(executable_path=webdriver_location)\n",
    "driver = webdriver.Chrome(service=chrome_service)\n",
    "driver.get(url)\n",
    "\n",
    "page_html = driver.page_source\n",
    "\n",
    "# Parse with BeautifulSoup\n",
    "soup = BeautifulSoup(page_html, 'html.parser')\n",
    "driver.quit()"
   ]
  },
  {
   "cell_type": "code",
   "execution_count": 10,
   "id": "7eb690b8-305f-4885-9810-d956de7449dd",
   "metadata": {},
   "outputs": [
    {
     "data": {
      "text/html": [
       "<div>\n",
       "<style scoped>\n",
       "    .dataframe tbody tr th:only-of-type {\n",
       "        vertical-align: middle;\n",
       "    }\n",
       "\n",
       "    .dataframe tbody tr th {\n",
       "        vertical-align: top;\n",
       "    }\n",
       "\n",
       "    .dataframe thead th {\n",
       "        text-align: right;\n",
       "    }\n",
       "</style>\n",
       "<table border=\"1\" class=\"dataframe\">\n",
       "  <thead>\n",
       "    <tr style=\"text-align: right;\">\n",
       "      <th></th>\n",
       "      <th>University</th>\n",
       "      <th>Star</th>\n",
       "      <th>Salary_high</th>\n",
       "      <th>Salary_low</th>\n",
       "      <th>Salary_avg</th>\n",
       "    </tr>\n",
       "  </thead>\n",
       "  <tbody>\n",
       "    <tr>\n",
       "      <th>0</th>\n",
       "      <td>Stanford University</td>\n",
       "      <td>4.3</td>\n",
       "      <td>$54K</td>\n",
       "      <td>$34K</td>\n",
       "      <td>$42,688</td>\n",
       "    </tr>\n",
       "    <tr>\n",
       "      <th>1</th>\n",
       "      <td>University of Pennsylvania</td>\n",
       "      <td>4.1</td>\n",
       "      <td>$51K</td>\n",
       "      <td>$33K</td>\n",
       "      <td>$41,299</td>\n",
       "    </tr>\n",
       "    <tr>\n",
       "      <th>2</th>\n",
       "      <td>Harvard University</td>\n",
       "      <td>4.3</td>\n",
       "      <td>$53K</td>\n",
       "      <td>$34K</td>\n",
       "      <td>$42,451</td>\n",
       "    </tr>\n",
       "    <tr>\n",
       "      <th>3</th>\n",
       "      <td>Columbia University</td>\n",
       "      <td>4.0</td>\n",
       "      <td>$53K</td>\n",
       "      <td>$35K</td>\n",
       "      <td>$42,901</td>\n",
       "    </tr>\n",
       "    <tr>\n",
       "      <th>4</th>\n",
       "      <td>Northwestern University</td>\n",
       "      <td>4.2</td>\n",
       "      <td>$49K</td>\n",
       "      <td>$32K</td>\n",
       "      <td>$39,382</td>\n",
       "    </tr>\n",
       "  </tbody>\n",
       "</table>\n",
       "</div>"
      ],
      "text/plain": [
       "                   University Star Salary_high Salary_low Salary_avg\n",
       "0         Stanford University  4.3        $54K       $34K    $42,688\n",
       "1  University of Pennsylvania  4.1        $51K       $33K    $41,299\n",
       "2          Harvard University  4.3        $53K       $34K    $42,451\n",
       "3         Columbia University  4.0        $53K       $35K    $42,901\n",
       "4     Northwestern University  4.2        $49K       $32K    $39,382"
      ]
     },
     "execution_count": 10,
     "metadata": {},
     "output_type": "execute_result"
    }
   ],
   "source": [
    "# Checking that the pages is properly scraped\n",
    "uni_divs = soup.find_all('div', {'class': 'py d-flex align-items-start align-items-lg-center css-17435dd row'})\n",
    "university=[]\n",
    "star_rating=[]\n",
    "salary_high=[]\n",
    "salary_low=[]\n",
    "salary_avg=[]\n",
    "\n",
    "for div in uni_divs:\n",
    "    university.append(div.find('a', class_='css-3m8p33 el6ke058').text)\n",
    "    star_rating.append(div.find('span', class_=\"css-mi55ob m-0 css-135bgoo el6ke0510\").text)\n",
    "    salary_high.append(div.find('div', class_=\"d-flex flex-column align-items-end css-1qfy6mj e13r6qcv5\").text)\n",
    "    salary_low.append(div.find('div', class_=\"d-flex flex-column align-items-end css-15o6gsn e13r6qcv5\").text)\n",
    "    salary_avg.append(div.find('h3', class_=\"m-0 css-be8uqy el6ke056\").text)\n",
    "\n",
    "df = pd.DataFrame({'University':university, 'Star':star_rating, 'Salary_high':salary_high, 'Salary_low':salary_low, 'Salary_avg':salary_avg})\n",
    "df.head()"
   ]
  },
  {
   "cell_type": "code",
   "execution_count": 11,
   "id": "703eae4e-2285-4a4f-ac9c-e16ed690f180",
   "metadata": {},
   "outputs": [
    {
     "data": {
      "text/html": [
       "<div>\n",
       "<style scoped>\n",
       "    .dataframe tbody tr th:only-of-type {\n",
       "        vertical-align: middle;\n",
       "    }\n",
       "\n",
       "    .dataframe tbody tr th {\n",
       "        vertical-align: top;\n",
       "    }\n",
       "\n",
       "    .dataframe thead th {\n",
       "        text-align: right;\n",
       "    }\n",
       "</style>\n",
       "<table border=\"1\" class=\"dataframe\">\n",
       "  <thead>\n",
       "    <tr style=\"text-align: right;\">\n",
       "      <th></th>\n",
       "      <th>University</th>\n",
       "      <th>Star</th>\n",
       "      <th>Salary_high</th>\n",
       "      <th>Salary_low</th>\n",
       "      <th>Salary_avg</th>\n",
       "    </tr>\n",
       "  </thead>\n",
       "  <tbody>\n",
       "    <tr>\n",
       "      <th>14</th>\n",
       "      <td>University of California Berkeley</td>\n",
       "      <td>4.3</td>\n",
       "      <td>$55K</td>\n",
       "      <td>$35K</td>\n",
       "      <td>$44,033</td>\n",
       "    </tr>\n",
       "    <tr>\n",
       "      <th>15</th>\n",
       "      <td>Boston University</td>\n",
       "      <td>4.2</td>\n",
       "      <td>$52K</td>\n",
       "      <td>$33K</td>\n",
       "      <td>$41,095</td>\n",
       "    </tr>\n",
       "    <tr>\n",
       "      <th>16</th>\n",
       "      <td>UC San Diego</td>\n",
       "      <td>4.1</td>\n",
       "      <td>$52K</td>\n",
       "      <td>$34K</td>\n",
       "      <td>$41,946</td>\n",
       "    </tr>\n",
       "    <tr>\n",
       "      <th>17</th>\n",
       "      <td>Princeton University</td>\n",
       "      <td>4.5</td>\n",
       "      <td>$52K</td>\n",
       "      <td>$34K</td>\n",
       "      <td>$41,710</td>\n",
       "    </tr>\n",
       "    <tr>\n",
       "      <th>18</th>\n",
       "      <td>Washington University in St. Louis</td>\n",
       "      <td>4.1</td>\n",
       "      <td>$48K</td>\n",
       "      <td>$30K</td>\n",
       "      <td>$38,426</td>\n",
       "    </tr>\n",
       "  </tbody>\n",
       "</table>\n",
       "</div>"
      ],
      "text/plain": [
       "                            University Star Salary_high Salary_low Salary_avg\n",
       "14   University of California Berkeley  4.3        $55K       $35K    $44,033\n",
       "15                   Boston University  4.2        $52K       $33K    $41,095\n",
       "16                        UC San Diego  4.1        $52K       $34K    $41,946\n",
       "17                Princeton University  4.5        $52K       $34K    $41,710\n",
       "18  Washington University in St. Louis  4.1        $48K       $30K    $38,426"
      ]
     },
     "execution_count": 11,
     "metadata": {},
     "output_type": "execute_result"
    }
   ],
   "source": [
    "df.tail()"
   ]
  },
  {
   "cell_type": "code",
   "execution_count": null,
   "id": "b15e8234-fc8e-4b67-bd57-9e44fc3eef84",
   "metadata": {},
   "outputs": [],
   "source": [
    "# Scrapes the whole Glassdoor, saving each soup in a list scraped_pages\n",
    "# With wait times this will take ~13 minutes to load 52 pages containingt 1040 universities (20/page) from glassdoor\n",
    "\n",
    "import time\n",
    "import random\n",
    "from bs4 import BeautifulSoup\n",
    "from selenium import webdriver\n",
    "from selenium.webdriver.chrome.service import Service\n",
    "from selenium.webdriver.chrome.options import Options\n",
    "\n",
    "options = Options()\n",
    "options.add_argument(\"user-agent=Mozilla/5.0 (Windows NT 10.0; Win64; x64) AppleWebKit/537.36 (KHTML, like Gecko) Chrome/58.0.3029.110 Safari/537.3\")\n",
    "\n",
    "\n",
    "webdriver_location = r'C:\\Users\\Lenovo V15\\Downloads\\chromedriver_win32.exe'\n",
    "\n",
    "# Create a Service object with the webdriver_location\n",
    "service = Service(executable_path=webdriver_location)\n",
    "\n",
    "# Pass the Service object to the webdriver.Chrome constructor\n",
    "#driver = webdriver.Chrome(service=service)\n",
    "driver = webdriver.Chrome(service=service, options=options)\n",
    "\n",
    "\n",
    "scraped_pages = []\n",
    "base_url = \"https://www.glassdoor.com/Salaries/us-phd-student-salary-SRCH_IL.0,2_IN1_KO3,14\"\n",
    "\n",
    "for i in range(52):\n",
    "    # Update URL based on the current iteration\n",
    "    url = f'{base_url}_IP.htm' if i == 0 else f'{base_url}_IP{i + 1}.htm'\n",
    "    \n",
    "    print(f\"Scraping page {i + 1}: {url}\")\n",
    "    \n",
    "    driver.get(url)\n",
    "    uni_html = driver.page_source\n",
    "    scraped_pages.append(BeautifulSoup(uni_html, 'html.parser'))\n",
    "    \n",
    "    # Wait for a random time between requests (10 to 20s)\n",
    "    time.sleep(random.uniform(10, 20))\n",
    "\n",
    "# Close the driver after the loop\n",
    "driver.quit()\n",
    "\n",
    "print(f\"Number of pages scraped: {len(scraped_pages)}\")\n"
   ]
  },
  {
   "cell_type": "markdown",
   "id": "0ea6e75f-597d-46f4-89ee-ba65de930591",
   "metadata": {},
   "source": [
    "**Extract element values from each soup and save into a dataframe**"
   ]
  },
  {
   "cell_type": "code",
   "execution_count": 16,
   "id": "73392d0f-f9ff-479a-a69f-9fd1ca5d71d3",
   "metadata": {},
   "outputs": [],
   "source": [
    "# Re-running this as an example for github, but only on one soup\n",
    "scraped_pages = soup"
   ]
  },
  {
   "cell_type": "code",
   "execution_count": 18,
   "id": "9e6dbda0-8301-4477-8be5-7c208b9d2244",
   "metadata": {},
   "outputs": [
    {
     "data": {
      "text/plain": [
       "(19, 5)"
      ]
     },
     "execution_count": 18,
     "metadata": {},
     "output_type": "execute_result"
    }
   ],
   "source": [
    "# Define empty DataFrame \n",
    "df_final = pd.DataFrame(columns=['University', 'Star', 'Salary_high', 'Salary_low', 'Salary_avg'])\n",
    "\n",
    "for soup in scraped_pages:\n",
    "    uni_divs = soup.find_all('div', {'class': 'py d-flex align-items-start align-items-lg-center css-17435dd row'})\n",
    "\n",
    "    university = []\n",
    "    star_rating = []\n",
    "    salary_high = []\n",
    "    salary_low = []\n",
    "    salary_avg = []\n",
    "\n",
    "    for div in uni_divs:\n",
    "        university.append(div.find('a', class_='css-3m8p33 el6ke058').text)\n",
    "        star_elem = div.find('span', class_=\"css-mi55ob m-0 css-135bgoo el6ke0510\")\n",
    "        \n",
    "        if star_elem is not None:\n",
    "            star_rating.append(star_elem.text)\n",
    "        else:\n",
    "            star_rating.append('N/A')  \n",
    "        \n",
    "        salary_high.append(div.find('div', class_=\"d-flex flex-column align-items-end css-1qfy6mj e13r6qcv5\").text)\n",
    "        salary_low.append(div.find('div', class_=\"d-flex flex-column align-items-end css-15o6gsn e13r6qcv5\").text)\n",
    "        salary_avg.append(div.find('h3', class_=\"m-0 css-be8uqy el6ke056\").text)\n",
    "\n",
    "    # Create a DataFrame for the current scrape\n",
    "    df = pd.DataFrame({'University': university, 'Star': star_rating, 'Salary_high': salary_high, 'Salary_low': salary_low, 'Salary_avg': salary_avg})\n",
    "    \n",
    "    # Concatenate the current DataFrame with the final DataFrame\n",
    "    df_final = pd.concat([df_final, df], ignore_index=True)\n",
    "\n",
    "\n",
    "df_final.shape"
   ]
  },
  {
   "cell_type": "code",
   "execution_count": 19,
   "id": "390b5294-7e83-4f87-9330-a7a51097aaf9",
   "metadata": {},
   "outputs": [
    {
     "data": {
      "text/html": [
       "<div>\n",
       "<style scoped>\n",
       "    .dataframe tbody tr th:only-of-type {\n",
       "        vertical-align: middle;\n",
       "    }\n",
       "\n",
       "    .dataframe tbody tr th {\n",
       "        vertical-align: top;\n",
       "    }\n",
       "\n",
       "    .dataframe thead th {\n",
       "        text-align: right;\n",
       "    }\n",
       "</style>\n",
       "<table border=\"1\" class=\"dataframe\">\n",
       "  <thead>\n",
       "    <tr style=\"text-align: right;\">\n",
       "      <th></th>\n",
       "      <th>University</th>\n",
       "      <th>Star</th>\n",
       "      <th>Salary_high</th>\n",
       "      <th>Salary_low</th>\n",
       "      <th>Salary_avg</th>\n",
       "    </tr>\n",
       "  </thead>\n",
       "  <tbody>\n",
       "    <tr>\n",
       "      <th>0</th>\n",
       "      <td>Stanford University</td>\n",
       "      <td>4.3</td>\n",
       "      <td>$54K</td>\n",
       "      <td>$34K</td>\n",
       "      <td>$42,688</td>\n",
       "    </tr>\n",
       "    <tr>\n",
       "      <th>1</th>\n",
       "      <td>University of Pennsylvania</td>\n",
       "      <td>4.1</td>\n",
       "      <td>$51K</td>\n",
       "      <td>$33K</td>\n",
       "      <td>$41,299</td>\n",
       "    </tr>\n",
       "    <tr>\n",
       "      <th>2</th>\n",
       "      <td>Harvard University</td>\n",
       "      <td>4.3</td>\n",
       "      <td>$53K</td>\n",
       "      <td>$34K</td>\n",
       "      <td>$42,451</td>\n",
       "    </tr>\n",
       "    <tr>\n",
       "      <th>3</th>\n",
       "      <td>Columbia University</td>\n",
       "      <td>4.0</td>\n",
       "      <td>$53K</td>\n",
       "      <td>$35K</td>\n",
       "      <td>$42,901</td>\n",
       "    </tr>\n",
       "    <tr>\n",
       "      <th>4</th>\n",
       "      <td>Northwestern University</td>\n",
       "      <td>4.2</td>\n",
       "      <td>$49K</td>\n",
       "      <td>$32K</td>\n",
       "      <td>$39,382</td>\n",
       "    </tr>\n",
       "  </tbody>\n",
       "</table>\n",
       "</div>"
      ],
      "text/plain": [
       "                   University Star Salary_high Salary_low Salary_avg\n",
       "0         Stanford University  4.3        $54K       $34K    $42,688\n",
       "1  University of Pennsylvania  4.1        $51K       $33K    $41,299\n",
       "2          Harvard University  4.3        $53K       $34K    $42,451\n",
       "3         Columbia University  4.0        $53K       $35K    $42,901\n",
       "4     Northwestern University  4.2        $49K       $32K    $39,382"
      ]
     },
     "execution_count": 19,
     "metadata": {},
     "output_type": "execute_result"
    }
   ],
   "source": [
    "df_final.head()"
   ]
  },
  {
   "cell_type": "code",
   "execution_count": 89,
   "id": "8a10b08a-fa55-42e7-afc8-fd86d44dfc19",
   "metadata": {},
   "outputs": [],
   "source": [
    "df_final.to_csv('GlassDoorScrape_Salaries_Start_Large.csv')"
   ]
  },
  {
   "cell_type": "code",
   "execution_count": 21,
   "id": "ca48ec61-f9fb-4849-afb3-e4f2284c7af5",
   "metadata": {},
   "outputs": [],
   "source": [
    "df_glassdoor_salary = df_final.copy()"
   ]
  },
  {
   "cell_type": "code",
   "execution_count": 22,
   "id": "106ea10f-b634-4555-b808-6f6d0bcc2d32",
   "metadata": {},
   "outputs": [],
   "source": [
    "# How it is filtered later"
   ]
  },
  {
   "cell_type": "code",
   "execution_count": 23,
   "id": "81b856a7-1072-4553-a546-60ae294ca17b",
   "metadata": {},
   "outputs": [],
   "source": [
    "df_glassdoor_salary['Salary_high'] = df_glassdoor_salary['Salary_high'].apply(lambda x: int(x.replace('$', '').replace('K', ''))*1000)\n",
    "df_glassdoor_salary['Salary_low'] = df_glassdoor_salary['Salary_low'].apply(lambda x: int(x.replace('$', '').replace('K', ''))*1000)\n",
    "df_glassdoor_salary['Salary_avg'] = df_glassdoor_salary['Salary_avg'].apply(lambda x: int(x.replace('$', '').replace(',', '')))"
   ]
  },
  {
   "cell_type": "code",
   "execution_count": null,
   "id": "36ae20db-1305-40ba-9f60-8b6df6af3d67",
   "metadata": {},
   "outputs": [],
   "source": [
    "def filter_function(row, columns, min_value, max_value):\n",
    "    return all(row[column] >= min_value and row[column] <= max_value for column in columns)\n",
    "\n",
    "columns_to_filter = ['Salary_low', 'Salary_avg', 'Salary_high']\n",
    "min_value = 2000\n",
    "max_value = 80000 # stipends over 80,000 and 20000 would be unrealistic and will be excluded\n",
    "\n",
    "filtered_df = df_glassdoor_salary[df_glassdoor_salary.apply(filter_function, args=(columns_to_filter, min_value, max_value), axis=1)]"
   ]
  },
  {
   "cell_type": "code",
   "execution_count": null,
   "id": "0cbea53c-589e-476f-b73d-7565536c9e8e",
   "metadata": {},
   "outputs": [],
   "source": [
    "filtered_df.to_csv(\"GlassDoorScrape_PhDSalaries_Parsed.csv\")"
   ]
  }
 ],
 "metadata": {
  "kernelspec": {
   "display_name": "Python 3 (ipykernel)",
   "language": "python",
   "name": "python3"
  },
  "language_info": {
   "codemirror_mode": {
    "name": "ipython",
    "version": 3
   },
   "file_extension": ".py",
   "mimetype": "text/x-python",
   "name": "python",
   "nbconvert_exporter": "python",
   "pygments_lexer": "ipython3",
   "version": "3.9.13"
  }
 },
 "nbformat": 4,
 "nbformat_minor": 5
}
